{
 "cells": [
  {
   "cell_type": "code",
   "execution_count": 1,
   "id": "c8387eaa",
   "metadata": {},
   "outputs": [],
   "source": [
    "import numpy as np\n",
    "from read_model import read_camera"
   ]
  },
  {
   "cell_type": "code",
   "execution_count": 2,
   "id": "a2f2fcf5",
   "metadata": {
    "scrolled": false
   },
   "outputs": [
    {
     "name": "stdout",
     "output_type": "stream",
     "text": [
      "# Camera list with one line of data per camera:\n",
      "\n",
      "#   CAMERA_ID, MODEL, WIDTH, HEIGHT, PARAMS[]\n",
      "\n",
      "# Number of cameras: 1\n",
      "\n",
      "1 SIMPLE_RADIAL 3072 2304 2559.68 1536 1152 -0.0204997\n",
      "\n",
      "\n",
      "{1: Camera(id=1, model='SIMPLE_RADIAL', width=3072, height=2304, params=array([ 2.55968e+03,  1.53600e+03,  1.15200e+03, -2.04997e-02]))}\n"
     ]
    }
   ],
   "source": [
    "c = read_camera(\"./data_south-building/sparse/cameras.txt\")"
   ]
  }
 ],
 "metadata": {
  "kernelspec": {
   "display_name": "Python 3",
   "language": "python",
   "name": "python3"
  },
  "language_info": {
   "codemirror_mode": {
    "name": "ipython",
    "version": 3
   },
   "file_extension": ".py",
   "mimetype": "text/x-python",
   "name": "python",
   "nbconvert_exporter": "python",
   "pygments_lexer": "ipython3",
   "version": "3.8.8"
  }
 },
 "nbformat": 4,
 "nbformat_minor": 5
}
